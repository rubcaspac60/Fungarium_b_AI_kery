{
 "cells": [
  {
   "cell_type": "code",
   "execution_count": 1,
   "id": "bec2c9a0",
   "metadata": {},
   "outputs": [],
   "source": [
    "import numpy as np\n",
    "import pandas as pd\n",
    "\n",
    "pd.set_option('display.max_columns', None)  # or 1000\n",
    "pd.set_option('display.max_rows', None)  # or 1000\n",
    "pd.set_option('display.max_colwidth', None)  # or 199"
   ]
  },
  {
   "cell_type": "code",
   "execution_count": 9,
   "id": "f89c2386",
   "metadata": {},
   "outputs": [
    {
     "name": "stdout",
     "output_type": "stream",
     "text": [
      "       strains  gene_edit  spawn_type  spawn_weight substrate_1  \\\n",
      "0        xxxxx          0      Bulgur            77     Sawdust   \n",
      "1     zzzzzzzz          1      Barley            58        Hemp   \n",
      "2      yyyyyyy          1   Buckwheat            77     Sawdust   \n",
      "3      yyyyyyy          0  BierTreber            93     Sawdust   \n",
      "4     zzzzzzzz          0  BierTreber            71    Rapstraw   \n",
      "...        ...        ...         ...           ...         ...   \n",
      "4995  zzzzzzzz          0      Bulgur            59  Biertreber   \n",
      "4996     xxxxx          0     Oatmeal            54     Sawdust   \n",
      "4997  zzzzzzzz          0   Buckwheat            60  Biertreber   \n",
      "4998   yyyyyyy          0      Bulgur            93     Sawdust   \n",
      "4999   yyyyyyy          0  BierTreber            77       Grass   \n",
      "\n",
      "      substrate_weight_1 substrate_2  substrate_weight_2 substrate_3  \\\n",
      "0                     53    Rapstraw                 202    Rapstraw   \n",
      "1                     75       Straw                 280    Rapstraw   \n",
      "2                    100    Rapstraw                 235        Hemp   \n",
      "3                     93        Hemp                 202  Vegiplants   \n",
      "4                     71        Hemp                 258        Hemp   \n",
      "...                  ...         ...                 ...         ...   \n",
      "4995                  57    Rapstraw                 264    Rapstraw   \n",
      "4996                  98  Biertreber                 297    Rapstraw   \n",
      "4997                  84  Vegiplants                 270        Hemp   \n",
      "4998                  87  Biertreber                 260    Rapstraw   \n",
      "4999                  63    Rapstraw                 225       Straw   \n",
      "\n",
      "      substrate_weight_3  ... Temp_Growtent  Humidity_Growtent Time_Growtent  \\\n",
      "0                     81  ...            26           0.722215             6   \n",
      "1                     66  ...            22           0.770248             7   \n",
      "2                     97  ...            22           0.781701            19   \n",
      "3                     53  ...            28           0.909554            15   \n",
      "4                     98  ...            26           0.704821            20   \n",
      "...                  ...  ...           ...                ...           ...   \n",
      "4995                  87  ...            26           0.917519            22   \n",
      "4996                  64  ...            28           0.671532            19   \n",
      "4997                  59  ...            27           0.788085            18   \n",
      "4998                  67  ...            19           0.656111            12   \n",
      "4999                  54  ...            25           0.877983             6   \n",
      "\n",
      "     CO2_conc    Press_type  Temp_Press  Force_Press  Time_Ovendrying  \\\n",
      "0        2500  Cold-Pressed          85           48               17   \n",
      "1        2000   Hot-Pressed          75           64               29   \n",
      "2        1500   Hot-Pressed          75           29               17   \n",
      "3        3000   Non-Pressed          85           78               41   \n",
      "4        2000   Non-Pressed          70           35               17   \n",
      "...       ...           ...         ...          ...              ...   \n",
      "4995     4000   Hot-Pressed          80           22               29   \n",
      "4996     4500   Hot-Pressed          70           60               29   \n",
      "4997     2500  Cold-Pressed          85           71               65   \n",
      "4998     2000  Cold-Pressed          70           38               41   \n",
      "4999     1500  Cold-Pressed          85           15               65   \n",
      "\n",
      "      Temp_Ovendrying  Vacc_Overdrying  \n",
      "0                  70            0.003  \n",
      "1                  80            0.040  \n",
      "2                  85            0.011  \n",
      "3                  85            0.021  \n",
      "4                  70            0.077  \n",
      "...               ...              ...  \n",
      "4995               85            0.031  \n",
      "4996               80            0.033  \n",
      "4997               85            0.046  \n",
      "4998               75            0.075  \n",
      "4999               70            0.088  \n",
      "\n",
      "[5000 rows x 27 columns]\n"
     ]
    }
   ],
   "source": [
    "df = pd.read_csv (r'./dataset_generator_v01/GEN_Friday, June, 24 _1859_naive_5000.csv', sep = \",\")\n",
    "print(df)"
   ]
  },
  {
   "cell_type": "code",
   "execution_count": 11,
   "id": "fff52f52",
   "metadata": {},
   "outputs": [
    {
     "name": "stdout",
     "output_type": "stream",
     "text": [
      "    gene_edit  spawn_weight  substrate_weight_1  substrate_weight_2  \\\n",
      "0  5000.00000   5000.000000         5000.000000         5000.000000   \n",
      "1     0.49940     74.969200           74.881600          249.149200   \n",
      "2     0.50005     14.652262           14.680623           29.022188   \n",
      "3     0.00000     50.000000           50.000000          200.000000   \n",
      "4     0.00000     62.000000           62.000000          224.000000   \n",
      "5     0.00000     75.000000           75.000000          249.000000   \n",
      "6     1.00000     87.000000           87.000000          274.000000   \n",
      "7     1.00000    100.000000          100.000000          300.000000   \n",
      "\n",
      "   substrate_weight_3  substrate_weight_4  water_absorption     bacteria  \\\n",
      "0         5000.000000         5000.000000       5000.000000  5000.000000   \n",
      "1           74.996000          250.254800          0.449192     0.497200   \n",
      "2           14.660811           28.998905          0.086447     0.500042   \n",
      "3           50.000000          200.000000          0.300000     0.000000   \n",
      "4           62.000000          225.000000          0.370000     0.000000   \n",
      "5           75.000000          250.000000          0.450000     0.000000   \n",
      "6           88.000000          276.000000          0.520000     1.000000   \n",
      "7          100.000000          300.000000          0.600000     1.000000   \n",
      "\n",
      "   Temp_Growtent  Humidity_Growtent  Time_Growtent     CO2_conc  Temp_Press  \\\n",
      "0    5000.000000        5000.000000    5000.000000  5000.000000  5000.00000   \n",
      "1      23.047400           0.773767      14.940400  2500.500000    77.58600   \n",
      "2       3.165621           0.101286       6.061468  1284.671096     5.58201   \n",
      "3      18.000000           0.600016       5.000000   500.000000    70.00000   \n",
      "4      20.000000           0.685322      10.000000  1500.000000    75.00000   \n",
      "5      23.000000           0.773094      15.000000  2500.000000    80.00000   \n",
      "6      26.000000           0.863641      20.000000  3500.000000    85.00000   \n",
      "7      28.000000           0.949877      25.000000  4500.000000    85.00000   \n",
      "\n",
      "   Force_Press  Time_Ovendrying  Temp_Ovendrying  Vacc_Overdrying  \n",
      "0  5000.000000       5000.00000      5000.000000      5000.000000  \n",
      "1    44.520600         34.86320        77.425000         0.050276  \n",
      "2    20.445928         20.43685         5.554327         0.028601  \n",
      "3    10.000000          5.00000        70.000000         0.001000  \n",
      "4    27.000000         17.00000        70.000000         0.026000  \n",
      "5    45.000000         29.00000        75.000000         0.050000  \n",
      "6    62.000000         53.00000        80.000000         0.075000  \n",
      "7    80.000000         65.00000        85.000000         0.100000  \n"
     ]
    }
   ],
   "source": [
    "df_1 =  pd.read_csv (r'./dataset_generator_v01/STATS_Friday, June, 24 _1859_naive_5000.csv', sep = \",\")\n",
    "print(df_1)"
   ]
  },
  {
   "cell_type": "code",
   "execution_count": null,
   "id": "f668ea9d",
   "metadata": {},
   "outputs": [],
   "source": []
  }
 ],
 "metadata": {
  "kernelspec": {
   "display_name": "Python 3 (ipykernel)",
   "language": "python",
   "name": "python3"
  },
  "language_info": {
   "codemirror_mode": {
    "name": "ipython",
    "version": 3
   },
   "file_extension": ".py",
   "mimetype": "text/x-python",
   "name": "python",
   "nbconvert_exporter": "python",
   "pygments_lexer": "ipython3",
   "version": "3.9.12"
  }
 },
 "nbformat": 4,
 "nbformat_minor": 5
}
